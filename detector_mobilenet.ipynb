{
 "cells": [
  {
   "cell_type": "code",
   "execution_count": 1,
   "metadata": {},
   "outputs": [],
   "source": [
    "import numpy as np\n",
    "import pandas as pd\n",
    "import tensorflow as tf\n",
    "import cv2 as cv\n",
    "import os\n",
    "from  tqdm import tqdm\n",
    "from keras.applications import InceptionV3,MobileNetV2"
   ]
  },
  {
   "cell_type": "code",
   "execution_count": 2,
   "metadata": {},
   "outputs": [],
   "source": [
    "base_dir = r'C:\\Users\\Parth Tripathi\\Desktop\\DS\\Sign_language_detector'"
   ]
  },
  {
   "cell_type": "code",
   "execution_count": 3,
   "metadata": {},
   "outputs": [],
   "source": [
    "train_dir = fr'{base_dir}\\asl_dataset'"
   ]
  },
  {
   "cell_type": "code",
   "execution_count": 4,
   "metadata": {},
   "outputs": [],
   "source": [
    "zero = fr'{train_dir}\\0'\n",
    "one = fr\"{train_dir}\\1\"\n",
    "two = fr'{train_dir}\\2'\n",
    "three = fr'{train_dir}\\3'\n",
    "four = fr'{train_dir}\\4'\n",
    "five = fr'{train_dir}\\5'\n",
    "six = fr'{train_dir}\\6'\n",
    "seven = fr'{train_dir}\\7'\n",
    "eight = fr'{train_dir}\\8'\n",
    "nine = fr'{train_dir}\\9'\n",
    "\n",
    "a = fr'{train_dir}\\a'\n",
    "b = fr'{train_dir}\\b'\n",
    "c = fr'{train_dir}\\c'\n",
    "d = fr'{train_dir}\\d'\n",
    "e = fr'{train_dir}\\e'\n",
    "f = fr'{train_dir}\\f'\n",
    "g = fr'{train_dir}\\g'\n",
    "h = fr'{train_dir}\\h'\n",
    "i = fr'{train_dir}\\i'\n",
    "j = fr'{train_dir}\\j'\n",
    "k = fr'{train_dir}\\k'\n",
    "l = fr'{train_dir}\\l'\n",
    "m = fr'{train_dir}\\m'\n",
    "n = fr'{train_dir}\\n'\n",
    "o = fr'{train_dir}\\o'\n",
    "p = fr'{train_dir}\\p'\n",
    "q = fr'{train_dir}\\q'\n",
    "r = fr'{train_dir}\\r'\n",
    "s = fr'{train_dir}\\s'\n",
    "t = fr'{train_dir}\\t'\n",
    "u = fr'{train_dir}\\u'\n",
    "v = fr'{train_dir}\\v'\n",
    "w = fr'{train_dir}\\w'\n",
    "x = fr'{train_dir}\\x'\n",
    "y = fr'{train_dir}\\y'\n",
    "z = fr'{train_dir}\\z'\n"
   ]
  },
  {
   "cell_type": "code",
   "execution_count": 5,
   "metadata": {},
   "outputs": [
    {
     "name": "stderr",
     "output_type": "stream",
     "text": [
      "100%|██████████| 70/70 [00:00<00:00, 102.32it/s]\n",
      "100%|██████████| 70/70 [00:00<00:00, 102.41it/s]\n",
      "100%|██████████| 70/70 [00:00<00:00, 107.63it/s]\n",
      "100%|██████████| 70/70 [00:00<00:00, 109.84it/s]\n",
      "100%|██████████| 70/70 [00:00<00:00, 103.55it/s]\n",
      "100%|██████████| 70/70 [00:00<00:00, 109.72it/s]\n",
      "100%|██████████| 70/70 [00:00<00:00, 115.90it/s]\n",
      "100%|██████████| 70/70 [00:00<00:00, 115.98it/s]\n",
      "100%|██████████| 70/70 [00:00<00:00, 118.90it/s]\n",
      "100%|██████████| 70/70 [00:00<00:00, 108.09it/s]\n",
      "100%|██████████| 70/70 [00:00<00:00, 105.91it/s]\n",
      "100%|██████████| 70/70 [00:00<00:00, 108.10it/s]\n",
      "100%|██████████| 70/70 [00:00<00:00, 107.17it/s]\n",
      "100%|██████████| 70/70 [00:00<00:00, 111.14it/s]\n",
      "100%|██████████| 70/70 [00:00<00:00, 114.32it/s]\n",
      "100%|██████████| 70/70 [00:00<00:00, 113.00it/s]\n",
      "100%|██████████| 70/70 [00:00<00:00, 117.36it/s]\n",
      "100%|██████████| 70/70 [00:00<00:00, 117.94it/s]\n",
      "100%|██████████| 70/70 [00:00<00:00, 115.85it/s]\n",
      "100%|██████████| 70/70 [00:00<00:00, 114.80it/s]\n",
      "100%|██████████| 70/70 [00:00<00:00, 116.08it/s]\n",
      "100%|██████████| 70/70 [00:00<00:00, 118.07it/s]\n",
      "100%|██████████| 70/70 [00:00<00:00, 112.39it/s]\n",
      "100%|██████████| 70/70 [00:00<00:00, 113.47it/s]\n",
      "100%|██████████| 70/70 [00:00<00:00, 118.16it/s]\n",
      "100%|██████████| 70/70 [00:00<00:00, 117.11it/s]\n",
      "100%|██████████| 70/70 [00:00<00:00, 114.00it/s]\n",
      "100%|██████████| 70/70 [00:00<00:00, 114.42it/s]\n",
      "100%|██████████| 70/70 [00:00<00:00, 117.26it/s]\n",
      "100%|██████████| 65/65 [00:00<00:00, 115.80it/s]\n",
      "100%|██████████| 70/70 [00:00<00:00, 117.06it/s]\n",
      "100%|██████████| 70/70 [00:00<00:00, 115.93it/s]\n",
      "100%|██████████| 70/70 [00:00<00:00, 104.99it/s]\n",
      "100%|██████████| 70/70 [00:00<00:00, 110.05it/s]\n",
      "100%|██████████| 70/70 [00:00<00:00, 112.25it/s]\n",
      "100%|██████████| 70/70 [00:00<00:00, 115.29it/s]\n"
     ]
    }
   ],
   "source": [
    "labels = ['0','1','2','3','4','5','6','7','8','9','a','b','c','d','e','f','g','h','i','j','k','l','m','n','o','p','q','r','s','t','u','v','w','x','y','z']\n",
    "\n",
    "\n",
    "train = []\n",
    "y_train=[]\n",
    "\n",
    "img_size = 224\n",
    "for i in labels:\n",
    "    folderpath = f\"{train_dir}\\{i}\"\n",
    "    for j in tqdm(os.listdir(folderpath)):\n",
    "        img = cv.imread(os.path.join(folderpath,j))\n",
    "        img = cv.resize(img,(img_size,img_size))\n",
    "        train.append(img)\n",
    "        y_train.append(i)\n",
    "\n",
    "\n",
    "train = np.array(train)\n",
    "y_train = np.array(y_train)        "
   ]
  },
  {
   "cell_type": "code",
   "execution_count": 6,
   "metadata": {},
   "outputs": [
    {
     "name": "stdout",
     "output_type": "stream",
     "text": [
      "(252, 224, 224, 3)\n",
      "(2263, 224, 224, 3)\n",
      "(2263, 36)\n",
      "(252, 36)\n"
     ]
    }
   ],
   "source": [
    "from sklearn.model_selection import train_test_split\n",
    "\n",
    "\n",
    "X_train,X_test,y_train,y_test = train_test_split(train,y_train, test_size=0.1,random_state=101)\n",
    "\n",
    "\n",
    "y_train_new = []\n",
    "for i in y_train:\n",
    "    y_train_new.append(labels.index(i))\n",
    "y_train = y_train_new\n",
    "y_train = tf.keras.utils.to_categorical(y_train)\n",
    "\n",
    "\n",
    "y_test_new = []\n",
    "for i in y_test:\n",
    "    y_test_new.append(labels.index(i))\n",
    "y_test = y_test_new\n",
    "y_test = tf.keras.utils.to_categorical(y_test)\n",
    "\n",
    "\n",
    "\n",
    "print(X_test.shape)\n",
    "print(X_train.shape)\n",
    "print(y_train.shape)\n",
    "print(y_test.shape)\n"
   ]
  },
  {
   "cell_type": "code",
   "execution_count": 7,
   "metadata": {},
   "outputs": [],
   "source": [
    "'''\n",
    "pre_model = InceptionV3(\n",
    "    input_shape=(224,224,3),\n",
    "    include_top=False,\n",
    "    weights='imagenet'\n",
    ")\n",
    "'''\n",
    "\n",
    "\n",
    "pre_model = MobileNetV2(\n",
    "        input_shape=(224,224,3),\n",
    "        weights='imagenet',\n",
    "        include_top=False\n",
    ")       \n",
    "\n",
    "\n",
    "\n",
    "for layers in pre_model.layers:\n",
    "    layers.trainable = False\n",
    "\n",
    "\n",
    "last_output = pre_model.layers[-2].output  "
   ]
  },
  {
   "cell_type": "code",
   "execution_count": 19,
   "metadata": {},
   "outputs": [],
   "source": [
    "from keras.optimizers import RMSprop,Adam\n",
    "from keras import Model\n",
    "\n",
    "x = tf.keras.layers.Flatten()(last_output)\n",
    "x = tf.keras.layers.Dense(64,activation='relu')(x)\n",
    "x = tf.keras.layers.BatchNormalization()(x)\n",
    "x = tf.keras.layers.Dense(64,activation='relu')(x)\n",
    "x = tf.keras.layers.BatchNormalization()(x)\n",
    "output = tf.keras.layers.Dense(len(labels),activation='softmax')(x)\n",
    "\n",
    "model = Model(pre_model.input,output)\n",
    "\n",
    "model.compile(optimizer=Adam(learning_rate=0.001), loss = 'categorical_crossentropy',metrics = ['accuracy'])\n"
   ]
  },
  {
   "cell_type": "code",
   "execution_count": 20,
   "metadata": {},
   "outputs": [],
   "source": [
    "class callbacks(tf.keras.callbacks.Callback):\n",
    "    def on_epoch_end(self,epochs,logs={}):\n",
    "        if(logs.get('val_accuracy')>0.99):\n",
    "            self.model.stop_training=True"
   ]
  },
  {
   "cell_type": "code",
   "execution_count": 21,
   "metadata": {},
   "outputs": [
    {
     "name": "stdout",
     "output_type": "stream",
     "text": [
      "Epoch 1/10\n",
      "71/71 [==============================] - 110s 1s/step - loss: 1.9441 - accuracy: 0.5365 - val_loss: 3.0810 - val_accuracy: 0.2338\n",
      "Epoch 2/10\n",
      "71/71 [==============================] - 97s 1s/step - loss: 0.7067 - accuracy: 0.8648 - val_loss: 1.1234 - val_accuracy: 0.7251\n",
      "Epoch 3/10\n",
      "71/71 [==============================] - 93s 1s/step - loss: 0.3770 - accuracy: 0.9333 - val_loss: 0.4050 - val_accuracy: 0.9381\n",
      "Epoch 4/10\n",
      "71/71 [==============================] - 94s 1s/step - loss: 0.2518 - accuracy: 0.9496 - val_loss: 0.2568 - val_accuracy: 0.9417\n",
      "Epoch 5/10\n",
      "71/71 [==============================] - 93s 1s/step - loss: 0.1793 - accuracy: 0.9646 - val_loss: 0.1803 - val_accuracy: 0.9585\n",
      "Epoch 6/10\n",
      "71/71 [==============================] - 92s 1s/step - loss: 0.1323 - accuracy: 0.9695 - val_loss: 0.1306 - val_accuracy: 0.9717\n",
      "Epoch 7/10\n",
      "71/71 [==============================] - 92s 1s/step - loss: 0.1286 - accuracy: 0.9691 - val_loss: 0.2512 - val_accuracy: 0.9289\n",
      "Epoch 8/10\n",
      "12/71 [====>.........................] - ETA: 41s - loss: 0.1099 - accuracy: 0.9813"
     ]
    },
    {
     "ename": "KeyboardInterrupt",
     "evalue": "",
     "output_type": "error",
     "traceback": [
      "\u001b[1;31m---------------------------------------------------------------------------\u001b[0m",
      "\u001b[1;31mKeyboardInterrupt\u001b[0m                         Traceback (most recent call last)",
      "Cell \u001b[1;32mIn [21], line 14\u001b[0m\n\u001b[0;32m      5\u001b[0m datagen \u001b[39m=\u001b[39m ImageDataGenerator(\n\u001b[0;32m      6\u001b[0m         rescale\u001b[39m=\u001b[39m(\u001b[39m1.\u001b[39m\u001b[39m/\u001b[39m\u001b[39m255\u001b[39m),\n\u001b[0;32m      7\u001b[0m         shear_range\u001b[39m=\u001b[39m\u001b[39m0.2\u001b[39m,\n\u001b[0;32m      8\u001b[0m         zoom_range\u001b[39m=\u001b[39m\u001b[39m0.2\u001b[39m,\n\u001b[0;32m      9\u001b[0m         horizontal_flip\u001b[39m=\u001b[39m\u001b[39mTrue\u001b[39;00m\n\u001b[0;32m     10\u001b[0m )\n\u001b[0;32m     12\u001b[0m datagen_val \u001b[39m=\u001b[39m ImageDataGenerator(rescale\u001b[39m=\u001b[39m\u001b[39m1.\u001b[39m\u001b[39m/\u001b[39m\u001b[39m255\u001b[39m)\n\u001b[1;32m---> 14\u001b[0m model\u001b[39m.\u001b[39;49mfit(\n\u001b[0;32m     15\u001b[0m         datagen\u001b[39m.\u001b[39;49mflow(X_train,y_train),\n\u001b[0;32m     16\u001b[0m         epochs\u001b[39m=\u001b[39;49m\u001b[39m10\u001b[39;49m,\n\u001b[0;32m     17\u001b[0m         validation_data\u001b[39m=\u001b[39;49mdatagen_val\u001b[39m.\u001b[39;49mflow(X_train,y_train),\n\u001b[0;32m     18\u001b[0m         callbacks \u001b[39m=\u001b[39;49m [callback]\n\u001b[0;32m     19\u001b[0m )\n",
      "File \u001b[1;32mc:\\Users\\91976\\AppData\\Local\\Programs\\Python\\Python310\\lib\\site-packages\\keras\\utils\\traceback_utils.py:65\u001b[0m, in \u001b[0;36mfilter_traceback.<locals>.error_handler\u001b[1;34m(*args, **kwargs)\u001b[0m\n\u001b[0;32m     63\u001b[0m filtered_tb \u001b[39m=\u001b[39m \u001b[39mNone\u001b[39;00m\n\u001b[0;32m     64\u001b[0m \u001b[39mtry\u001b[39;00m:\n\u001b[1;32m---> 65\u001b[0m     \u001b[39mreturn\u001b[39;00m fn(\u001b[39m*\u001b[39margs, \u001b[39m*\u001b[39m\u001b[39m*\u001b[39mkwargs)\n\u001b[0;32m     66\u001b[0m \u001b[39mexcept\u001b[39;00m \u001b[39mException\u001b[39;00m \u001b[39mas\u001b[39;00m e:\n\u001b[0;32m     67\u001b[0m     filtered_tb \u001b[39m=\u001b[39m _process_traceback_frames(e\u001b[39m.\u001b[39m__traceback__)\n",
      "File \u001b[1;32mc:\\Users\\91976\\AppData\\Local\\Programs\\Python\\Python310\\lib\\site-packages\\keras\\engine\\training.py:1564\u001b[0m, in \u001b[0;36mModel.fit\u001b[1;34m(self, x, y, batch_size, epochs, verbose, callbacks, validation_split, validation_data, shuffle, class_weight, sample_weight, initial_epoch, steps_per_epoch, validation_steps, validation_batch_size, validation_freq, max_queue_size, workers, use_multiprocessing)\u001b[0m\n\u001b[0;32m   1556\u001b[0m \u001b[39mwith\u001b[39;00m tf\u001b[39m.\u001b[39mprofiler\u001b[39m.\u001b[39mexperimental\u001b[39m.\u001b[39mTrace(\n\u001b[0;32m   1557\u001b[0m     \u001b[39m\"\u001b[39m\u001b[39mtrain\u001b[39m\u001b[39m\"\u001b[39m,\n\u001b[0;32m   1558\u001b[0m     epoch_num\u001b[39m=\u001b[39mepoch,\n\u001b[1;32m   (...)\u001b[0m\n\u001b[0;32m   1561\u001b[0m     _r\u001b[39m=\u001b[39m\u001b[39m1\u001b[39m,\n\u001b[0;32m   1562\u001b[0m ):\n\u001b[0;32m   1563\u001b[0m     callbacks\u001b[39m.\u001b[39mon_train_batch_begin(step)\n\u001b[1;32m-> 1564\u001b[0m     tmp_logs \u001b[39m=\u001b[39m \u001b[39mself\u001b[39;49m\u001b[39m.\u001b[39;49mtrain_function(iterator)\n\u001b[0;32m   1565\u001b[0m     \u001b[39mif\u001b[39;00m data_handler\u001b[39m.\u001b[39mshould_sync:\n\u001b[0;32m   1566\u001b[0m         context\u001b[39m.\u001b[39masync_wait()\n",
      "File \u001b[1;32mc:\\Users\\91976\\AppData\\Local\\Programs\\Python\\Python310\\lib\\site-packages\\tensorflow\\python\\util\\traceback_utils.py:150\u001b[0m, in \u001b[0;36mfilter_traceback.<locals>.error_handler\u001b[1;34m(*args, **kwargs)\u001b[0m\n\u001b[0;32m    148\u001b[0m filtered_tb \u001b[39m=\u001b[39m \u001b[39mNone\u001b[39;00m\n\u001b[0;32m    149\u001b[0m \u001b[39mtry\u001b[39;00m:\n\u001b[1;32m--> 150\u001b[0m   \u001b[39mreturn\u001b[39;00m fn(\u001b[39m*\u001b[39margs, \u001b[39m*\u001b[39m\u001b[39m*\u001b[39mkwargs)\n\u001b[0;32m    151\u001b[0m \u001b[39mexcept\u001b[39;00m \u001b[39mException\u001b[39;00m \u001b[39mas\u001b[39;00m e:\n\u001b[0;32m    152\u001b[0m   filtered_tb \u001b[39m=\u001b[39m _process_traceback_frames(e\u001b[39m.\u001b[39m__traceback__)\n",
      "File \u001b[1;32mc:\\Users\\91976\\AppData\\Local\\Programs\\Python\\Python310\\lib\\site-packages\\tensorflow\\python\\eager\\def_function.py:915\u001b[0m, in \u001b[0;36mFunction.__call__\u001b[1;34m(self, *args, **kwds)\u001b[0m\n\u001b[0;32m    912\u001b[0m compiler \u001b[39m=\u001b[39m \u001b[39m\"\u001b[39m\u001b[39mxla\u001b[39m\u001b[39m\"\u001b[39m \u001b[39mif\u001b[39;00m \u001b[39mself\u001b[39m\u001b[39m.\u001b[39m_jit_compile \u001b[39melse\u001b[39;00m \u001b[39m\"\u001b[39m\u001b[39mnonXla\u001b[39m\u001b[39m\"\u001b[39m\n\u001b[0;32m    914\u001b[0m \u001b[39mwith\u001b[39;00m OptionalXlaContext(\u001b[39mself\u001b[39m\u001b[39m.\u001b[39m_jit_compile):\n\u001b[1;32m--> 915\u001b[0m   result \u001b[39m=\u001b[39m \u001b[39mself\u001b[39m\u001b[39m.\u001b[39m_call(\u001b[39m*\u001b[39margs, \u001b[39m*\u001b[39m\u001b[39m*\u001b[39mkwds)\n\u001b[0;32m    917\u001b[0m new_tracing_count \u001b[39m=\u001b[39m \u001b[39mself\u001b[39m\u001b[39m.\u001b[39mexperimental_get_tracing_count()\n\u001b[0;32m    918\u001b[0m without_tracing \u001b[39m=\u001b[39m (tracing_count \u001b[39m==\u001b[39m new_tracing_count)\n",
      "File \u001b[1;32mc:\\Users\\91976\\AppData\\Local\\Programs\\Python\\Python310\\lib\\site-packages\\tensorflow\\python\\eager\\def_function.py:947\u001b[0m, in \u001b[0;36mFunction._call\u001b[1;34m(self, *args, **kwds)\u001b[0m\n\u001b[0;32m    944\u001b[0m   \u001b[39mself\u001b[39m\u001b[39m.\u001b[39m_lock\u001b[39m.\u001b[39mrelease()\n\u001b[0;32m    945\u001b[0m   \u001b[39m# In this case we have created variables on the first call, so we run the\u001b[39;00m\n\u001b[0;32m    946\u001b[0m   \u001b[39m# defunned version which is guaranteed to never create variables.\u001b[39;00m\n\u001b[1;32m--> 947\u001b[0m   \u001b[39mreturn\u001b[39;00m \u001b[39mself\u001b[39m\u001b[39m.\u001b[39m_stateless_fn(\u001b[39m*\u001b[39margs, \u001b[39m*\u001b[39m\u001b[39m*\u001b[39mkwds)  \u001b[39m# pylint: disable=not-callable\u001b[39;00m\n\u001b[0;32m    948\u001b[0m \u001b[39melif\u001b[39;00m \u001b[39mself\u001b[39m\u001b[39m.\u001b[39m_stateful_fn \u001b[39mis\u001b[39;00m \u001b[39mnot\u001b[39;00m \u001b[39mNone\u001b[39;00m:\n\u001b[0;32m    949\u001b[0m   \u001b[39m# Release the lock early so that multiple threads can perform the call\u001b[39;00m\n\u001b[0;32m    950\u001b[0m   \u001b[39m# in parallel.\u001b[39;00m\n\u001b[0;32m    951\u001b[0m   \u001b[39mself\u001b[39m\u001b[39m.\u001b[39m_lock\u001b[39m.\u001b[39mrelease()\n",
      "File \u001b[1;32mc:\\Users\\91976\\AppData\\Local\\Programs\\Python\\Python310\\lib\\site-packages\\tensorflow\\python\\eager\\function.py:2496\u001b[0m, in \u001b[0;36mFunction.__call__\u001b[1;34m(self, *args, **kwargs)\u001b[0m\n\u001b[0;32m   2493\u001b[0m \u001b[39mwith\u001b[39;00m \u001b[39mself\u001b[39m\u001b[39m.\u001b[39m_lock:\n\u001b[0;32m   2494\u001b[0m   (graph_function,\n\u001b[0;32m   2495\u001b[0m    filtered_flat_args) \u001b[39m=\u001b[39m \u001b[39mself\u001b[39m\u001b[39m.\u001b[39m_maybe_define_function(args, kwargs)\n\u001b[1;32m-> 2496\u001b[0m \u001b[39mreturn\u001b[39;00m graph_function\u001b[39m.\u001b[39;49m_call_flat(\n\u001b[0;32m   2497\u001b[0m     filtered_flat_args, captured_inputs\u001b[39m=\u001b[39;49mgraph_function\u001b[39m.\u001b[39;49mcaptured_inputs)\n",
      "File \u001b[1;32mc:\\Users\\91976\\AppData\\Local\\Programs\\Python\\Python310\\lib\\site-packages\\tensorflow\\python\\eager\\function.py:1862\u001b[0m, in \u001b[0;36mConcreteFunction._call_flat\u001b[1;34m(self, args, captured_inputs, cancellation_manager)\u001b[0m\n\u001b[0;32m   1858\u001b[0m possible_gradient_type \u001b[39m=\u001b[39m gradients_util\u001b[39m.\u001b[39mPossibleTapeGradientTypes(args)\n\u001b[0;32m   1859\u001b[0m \u001b[39mif\u001b[39;00m (possible_gradient_type \u001b[39m==\u001b[39m gradients_util\u001b[39m.\u001b[39mPOSSIBLE_GRADIENT_TYPES_NONE\n\u001b[0;32m   1860\u001b[0m     \u001b[39mand\u001b[39;00m executing_eagerly):\n\u001b[0;32m   1861\u001b[0m   \u001b[39m# No tape is watching; skip to running the function.\u001b[39;00m\n\u001b[1;32m-> 1862\u001b[0m   \u001b[39mreturn\u001b[39;00m \u001b[39mself\u001b[39m\u001b[39m.\u001b[39m_build_call_outputs(\u001b[39mself\u001b[39;49m\u001b[39m.\u001b[39;49m_inference_function\u001b[39m.\u001b[39;49mcall(\n\u001b[0;32m   1863\u001b[0m       ctx, args, cancellation_manager\u001b[39m=\u001b[39;49mcancellation_manager))\n\u001b[0;32m   1864\u001b[0m forward_backward \u001b[39m=\u001b[39m \u001b[39mself\u001b[39m\u001b[39m.\u001b[39m_select_forward_and_backward_functions(\n\u001b[0;32m   1865\u001b[0m     args,\n\u001b[0;32m   1866\u001b[0m     possible_gradient_type,\n\u001b[0;32m   1867\u001b[0m     executing_eagerly)\n\u001b[0;32m   1868\u001b[0m forward_function, args_with_tangents \u001b[39m=\u001b[39m forward_backward\u001b[39m.\u001b[39mforward()\n",
      "File \u001b[1;32mc:\\Users\\91976\\AppData\\Local\\Programs\\Python\\Python310\\lib\\site-packages\\tensorflow\\python\\eager\\function.py:499\u001b[0m, in \u001b[0;36m_EagerDefinedFunction.call\u001b[1;34m(self, ctx, args, cancellation_manager)\u001b[0m\n\u001b[0;32m    497\u001b[0m \u001b[39mwith\u001b[39;00m _InterpolateFunctionError(\u001b[39mself\u001b[39m):\n\u001b[0;32m    498\u001b[0m   \u001b[39mif\u001b[39;00m cancellation_manager \u001b[39mis\u001b[39;00m \u001b[39mNone\u001b[39;00m:\n\u001b[1;32m--> 499\u001b[0m     outputs \u001b[39m=\u001b[39m execute\u001b[39m.\u001b[39;49mexecute(\n\u001b[0;32m    500\u001b[0m         \u001b[39mstr\u001b[39;49m(\u001b[39mself\u001b[39;49m\u001b[39m.\u001b[39;49msignature\u001b[39m.\u001b[39;49mname),\n\u001b[0;32m    501\u001b[0m         num_outputs\u001b[39m=\u001b[39;49m\u001b[39mself\u001b[39;49m\u001b[39m.\u001b[39;49m_num_outputs,\n\u001b[0;32m    502\u001b[0m         inputs\u001b[39m=\u001b[39;49margs,\n\u001b[0;32m    503\u001b[0m         attrs\u001b[39m=\u001b[39;49mattrs,\n\u001b[0;32m    504\u001b[0m         ctx\u001b[39m=\u001b[39;49mctx)\n\u001b[0;32m    505\u001b[0m   \u001b[39melse\u001b[39;00m:\n\u001b[0;32m    506\u001b[0m     outputs \u001b[39m=\u001b[39m execute\u001b[39m.\u001b[39mexecute_with_cancellation(\n\u001b[0;32m    507\u001b[0m         \u001b[39mstr\u001b[39m(\u001b[39mself\u001b[39m\u001b[39m.\u001b[39msignature\u001b[39m.\u001b[39mname),\n\u001b[0;32m    508\u001b[0m         num_outputs\u001b[39m=\u001b[39m\u001b[39mself\u001b[39m\u001b[39m.\u001b[39m_num_outputs,\n\u001b[1;32m   (...)\u001b[0m\n\u001b[0;32m    511\u001b[0m         ctx\u001b[39m=\u001b[39mctx,\n\u001b[0;32m    512\u001b[0m         cancellation_manager\u001b[39m=\u001b[39mcancellation_manager)\n",
      "File \u001b[1;32mc:\\Users\\91976\\AppData\\Local\\Programs\\Python\\Python310\\lib\\site-packages\\tensorflow\\python\\eager\\execute.py:54\u001b[0m, in \u001b[0;36mquick_execute\u001b[1;34m(op_name, num_outputs, inputs, attrs, ctx, name)\u001b[0m\n\u001b[0;32m     52\u001b[0m \u001b[39mtry\u001b[39;00m:\n\u001b[0;32m     53\u001b[0m   ctx\u001b[39m.\u001b[39mensure_initialized()\n\u001b[1;32m---> 54\u001b[0m   tensors \u001b[39m=\u001b[39m pywrap_tfe\u001b[39m.\u001b[39;49mTFE_Py_Execute(ctx\u001b[39m.\u001b[39;49m_handle, device_name, op_name,\n\u001b[0;32m     55\u001b[0m                                       inputs, attrs, num_outputs)\n\u001b[0;32m     56\u001b[0m \u001b[39mexcept\u001b[39;00m core\u001b[39m.\u001b[39m_NotOkStatusException \u001b[39mas\u001b[39;00m e:\n\u001b[0;32m     57\u001b[0m   \u001b[39mif\u001b[39;00m name \u001b[39mis\u001b[39;00m \u001b[39mnot\u001b[39;00m \u001b[39mNone\u001b[39;00m:\n",
      "\u001b[1;31mKeyboardInterrupt\u001b[0m: "
     ]
    }
   ],
   "source": [
    "from keras.preprocessing.image import ImageDataGenerator\n",
    "\n",
    "callback = callbacks()\n",
    "\n",
    "datagen = ImageDataGenerator(\n",
    "        rescale=(1./255),\n",
    "        shear_range=0.2,\n",
    "        zoom_range=0.2,\n",
    "        horizontal_flip=True\n",
    ")\n",
    "\n",
    "datagen_val = ImageDataGenerator(rescale=1./255)\n",
    "\n",
    "model.fit(\n",
    "        datagen.flow(X_train,y_train),\n",
    "        epochs=10,\n",
    "        validation_data=datagen_val.flow(X_train,y_train),\n",
    "        callbacks = [callback]\n",
    ")        \n"
   ]
  },
  {
   "cell_type": "code",
   "execution_count": 15,
   "metadata": {},
   "outputs": [],
   "source": [
    "#model.save('sign_detector_mobilenet.h5')"
   ]
  },
  {
   "cell_type": "code",
   "execution_count": 16,
   "metadata": {},
   "outputs": [
    {
     "name": "stderr",
     "output_type": "stream",
     "text": [
      "WARNING:absl:Found untraced functions such as _jit_compiled_convolution_op, _jit_compiled_convolution_op, _jit_compiled_convolution_op, _jit_compiled_convolution_op, _jit_compiled_convolution_op while saving (showing 5 of 52). These functions will not be directly callable after loading.\n"
     ]
    },
    {
     "name": "stdout",
     "output_type": "stream",
     "text": [
      "INFO:tensorflow:Assets written to: C:\\Users\\91976\\AppData\\Local\\Temp\\tmpwunr7jh1\\assets\n"
     ]
    },
    {
     "name": "stderr",
     "output_type": "stream",
     "text": [
      "INFO:tensorflow:Assets written to: C:\\Users\\91976\\AppData\\Local\\Temp\\tmpwunr7jh1\\assets\n"
     ]
    }
   ],
   "source": [
    "'''\n",
    "tf_model_file = \"sign_detector_mobilenetV3.tflite\"\n",
    "tf_lite_converter = tf.lite.TFLiteConverter.from_keras_model(model)\n",
    "tflite_model = tf_lite_converter.convert()\n",
    "\n",
    "with open(tf_model_file,'wb') as file:\n",
    "    file.write(tflite_model)\n",
    "'''  "
   ]
  },
  {
   "cell_type": "markdown",
   "metadata": {},
   "source": [
    "predicting"
   ]
  },
  {
   "cell_type": "code",
   "execution_count": 17,
   "metadata": {},
   "outputs": [],
   "source": [
    "t = []\n",
    "\n",
    "img = cv.imread(r\"C:\\Users\\Parth Tripathi\\Desktop\\DS\\Sign_language_detector\\asl_dataset\\3\\hand1_3_bot_seg_3_cropped.jpeg\")\n",
    "\n",
    "img = cv.resize(img,(224,224))\n",
    "t.append(img)\n",
    "\n",
    "t = np.array(t)"
   ]
  },
  {
   "cell_type": "code",
   "execution_count": 18,
   "metadata": {},
   "outputs": [
    {
     "name": "stdout",
     "output_type": "stream",
     "text": [
      "1/1 [==============================] - 0s 63ms/step\n",
      "[[5.7532740e-01 1.5887609e-03 1.4473098e-04 7.2213128e-04 3.1566601e-02\n",
      "  1.8664434e-03 2.2943923e-03 1.5039409e-04 1.9359351e-03 4.2361559e-04\n",
      "  6.1082363e-02 1.1204365e-03 3.4819741e-03 1.1841088e-03 2.2140597e-03\n",
      "  3.4112626e-04 9.0615510e-04 4.2598636e-04 2.0955428e-03 2.2569990e-02\n",
      "  9.6515520e-04 3.3959467e-04 8.5333683e-02 1.0392197e-03 6.6639088e-02\n",
      "  7.4030802e-04 5.1282350e-05 9.6389960e-04 1.2562430e-01 5.3365092e-04\n",
      "  9.3047520e-06 8.3177103e-05 4.1031949e-03 1.8545653e-03 2.2547359e-04\n",
      "  5.2010211e-05]]\n"
     ]
    }
   ],
   "source": [
    "t = t / 255.0\n",
    "pred = model.predict(t)\n",
    "print(pred)\n"
   ]
  },
  {
   "cell_type": "code",
   "execution_count": 22,
   "metadata": {},
   "outputs": [
    {
     "ename": "ValueError",
     "evalue": "Only images with two spatial dimensions are supported. If using with color/multichannel images, specify `channel_axis`.",
     "output_type": "error",
     "traceback": [
      "\u001b[1;31m---------------------------------------------------------------------------\u001b[0m",
      "\u001b[1;31mValueError\u001b[0m                                Traceback (most recent call last)",
      "\u001b[1;32mc:\\Users\\Parth Tripathi\\Desktop\\DS\\Sign_language_detector\\detector_mobilenet.ipynb Cell 16\u001b[0m line \u001b[0;36m1\n\u001b[0;32m      <a href='vscode-notebook-cell:/c%3A/Users/Parth%20Tripathi/Desktop/DS/Sign_language_detector/detector_mobilenet.ipynb#X31sZmlsZQ%3D%3D?line=8'>9</a>\u001b[0m hog_features \u001b[39m=\u001b[39m []\n\u001b[0;32m     <a href='vscode-notebook-cell:/c%3A/Users/Parth%20Tripathi/Desktop/DS/Sign_language_detector/detector_mobilenet.ipynb#X31sZmlsZQ%3D%3D?line=10'>11</a>\u001b[0m \u001b[39mfor\u001b[39;00m image \u001b[39min\u001b[39;00m X_train:\n\u001b[1;32m---> <a href='vscode-notebook-cell:/c%3A/Users/Parth%20Tripathi/Desktop/DS/Sign_language_detector/detector_mobilenet.ipynb#X31sZmlsZQ%3D%3D?line=11'>12</a>\u001b[0m     fd, hog_image \u001b[39m=\u001b[39m hog(image, pixels_per_cell\u001b[39m=\u001b[39;49m(\u001b[39m16\u001b[39;49m, \u001b[39m16\u001b[39;49m), cells_per_block\u001b[39m=\u001b[39;49m(\u001b[39m1\u001b[39;49m, \u001b[39m1\u001b[39;49m), block_norm\u001b[39m=\u001b[39;49m\u001b[39m'\u001b[39;49m\u001b[39mL2-Hys\u001b[39;49m\u001b[39m'\u001b[39;49m, visualize\u001b[39m=\u001b[39;49m\u001b[39mTrue\u001b[39;49;00m)\n\u001b[0;32m     <a href='vscode-notebook-cell:/c%3A/Users/Parth%20Tripathi/Desktop/DS/Sign_language_detector/detector_mobilenet.ipynb#X31sZmlsZQ%3D%3D?line=12'>13</a>\u001b[0m     fd \u001b[39m=\u001b[39m exposure\u001b[39m.\u001b[39mrescale_intensity(fd, in_range\u001b[39m=\u001b[39m(\u001b[39m0\u001b[39m, \u001b[39m10\u001b[39m))\n\u001b[0;32m     <a href='vscode-notebook-cell:/c%3A/Users/Parth%20Tripathi/Desktop/DS/Sign_language_detector/detector_mobilenet.ipynb#X31sZmlsZQ%3D%3D?line=13'>14</a>\u001b[0m     hog_features\u001b[39m.\u001b[39mappend(fd)\n",
      "File \u001b[1;32mc:\\Users\\Parth Tripathi\\AppData\\Local\\Programs\\Python\\Python311\\Lib\\site-packages\\skimage\\_shared\\utils.py:316\u001b[0m, in \u001b[0;36mchannel_as_last_axis.__call__.<locals>.fixed_func\u001b[1;34m(*args, **kwargs)\u001b[0m\n\u001b[0;32m    313\u001b[0m channel_axis \u001b[39m=\u001b[39m kwargs\u001b[39m.\u001b[39mget(\u001b[39m'\u001b[39m\u001b[39mchannel_axis\u001b[39m\u001b[39m'\u001b[39m, \u001b[39mNone\u001b[39;00m)\n\u001b[0;32m    315\u001b[0m \u001b[39mif\u001b[39;00m channel_axis \u001b[39mis\u001b[39;00m \u001b[39mNone\u001b[39;00m:\n\u001b[1;32m--> 316\u001b[0m     \u001b[39mreturn\u001b[39;00m func(\u001b[39m*\u001b[39;49margs, \u001b[39m*\u001b[39;49m\u001b[39m*\u001b[39;49mkwargs)\n\u001b[0;32m    318\u001b[0m \u001b[39m# TODO: convert scalars to a tuple in anticipation of eventually\u001b[39;00m\n\u001b[0;32m    319\u001b[0m \u001b[39m#       supporting a tuple of channel axes. Right now, only an\u001b[39;00m\n\u001b[0;32m    320\u001b[0m \u001b[39m#       integer or a single-element tuple is supported, though.\u001b[39;00m\n\u001b[0;32m    321\u001b[0m \u001b[39mif\u001b[39;00m np\u001b[39m.\u001b[39misscalar(channel_axis):\n",
      "File \u001b[1;32mc:\\Users\\Parth Tripathi\\AppData\\Local\\Programs\\Python\\Python311\\Lib\\site-packages\\skimage\\feature\\_hog.py:156\u001b[0m, in \u001b[0;36mhog\u001b[1;34m(image, orientations, pixels_per_cell, cells_per_block, block_norm, visualize, transform_sqrt, feature_vector, channel_axis)\u001b[0m\n\u001b[0;32m    154\u001b[0m ndim_spatial \u001b[39m=\u001b[39m image\u001b[39m.\u001b[39mndim \u001b[39m-\u001b[39m \u001b[39m1\u001b[39m \u001b[39mif\u001b[39;00m multichannel \u001b[39melse\u001b[39;00m image\u001b[39m.\u001b[39mndim\n\u001b[0;32m    155\u001b[0m \u001b[39mif\u001b[39;00m ndim_spatial \u001b[39m!=\u001b[39m \u001b[39m2\u001b[39m:\n\u001b[1;32m--> 156\u001b[0m     \u001b[39mraise\u001b[39;00m \u001b[39mValueError\u001b[39;00m(\u001b[39m'\u001b[39m\u001b[39mOnly images with two spatial dimensions are \u001b[39m\u001b[39m'\u001b[39m\n\u001b[0;32m    157\u001b[0m                      \u001b[39m'\u001b[39m\u001b[39msupported. If using with color/multichannel \u001b[39m\u001b[39m'\u001b[39m\n\u001b[0;32m    158\u001b[0m                      \u001b[39m'\u001b[39m\u001b[39mimages, specify `channel_axis`.\u001b[39m\u001b[39m'\u001b[39m)\n\u001b[0;32m    160\u001b[0m \u001b[39m\u001b[39m\u001b[39m\"\"\"\u001b[39;00m\n\u001b[0;32m    161\u001b[0m \u001b[39mThe first stage applies an optional global image normalization\u001b[39;00m\n\u001b[0;32m    162\u001b[0m \u001b[39mequalisation that is designed to reduce the influence of illumination\u001b[39;00m\n\u001b[1;32m   (...)\u001b[0m\n\u001b[0;32m    167\u001b[0m \u001b[39mshadowing and illumination variations.\u001b[39;00m\n\u001b[0;32m    168\u001b[0m \u001b[39m\"\"\"\u001b[39;00m\n\u001b[0;32m    170\u001b[0m \u001b[39mif\u001b[39;00m transform_sqrt:\n",
      "\u001b[1;31mValueError\u001b[0m: Only images with two spatial dimensions are supported. If using with color/multichannel images, specify `channel_axis`."
     ]
    }
   ],
   "source": [
    "from skimage.feature import hog\n",
    "from skimage import exposure\n",
    "from sklearn import svm\n",
    "from sklearn.metrics import accuracy_score, classification_report\n",
    "\n",
    "# Load and preprocess your images (X_train, X_test, y_train, y_test)\n",
    "\n",
    "# Feature Extraction using HOG\n",
    "hog_features = []\n",
    "\n",
    "for image in X_train:\n",
    "    fd, hog_image = hog(image, pixels_per_cell=(16, 16), cells_per_block=(1, 1), block_norm='L2-Hys', visualize=True)\n",
    "    fd = exposure.rescale_intensity(fd, in_range=(0, 10))\n",
    "    hog_features.append(fd)\n",
    "\n",
    "# Training the SVM\n",
    "svm_classifier = svm.SVC(kernel='linear', C=1.0)\n",
    "svm_classifier.fit(hog_features, y_train)\n",
    "\n",
    "# Feature extraction for test data\n",
    "hog_test_features = []\n",
    "\n",
    "for image in X_test:\n",
    "    fd, hog_image = hog(image, pixels_per_cell=(16, 16), cells_per_block=(1, 1), block_norm='L2-Hys', visualize=True)\n",
    "    fd = exposure.rescale_intensity(fd, in_range=(0, 10))\n",
    "    hog_test_features.append(fd)\n",
    "\n",
    "# Model Evaluation\n",
    "y_pred = svm_classifier.predict(hog_test_features)\n",
    "\n",
    "# Calculate accuracy\n",
    "accuracy = accuracy_score(y_test, y_pred)\n",
    "print(\"Accuracy: \", accuracy)\n",
    "\n",
    "# Classification report\n",
    "report = classification_report(y_test, y_pred, target_names=labels)\n",
    "print(report)\n"
   ]
  },
  {
   "cell_type": "code",
   "execution_count": null,
   "metadata": {},
   "outputs": [],
   "source": []
  }
 ],
 "metadata": {
  "kernelspec": {
   "display_name": "Python 3.10.4 64-bit",
   "language": "python",
   "name": "python3"
  },
  "language_info": {
   "codemirror_mode": {
    "name": "ipython",
    "version": 3
   },
   "file_extension": ".py",
   "mimetype": "text/x-python",
   "name": "python",
   "nbconvert_exporter": "python",
   "pygments_lexer": "ipython3",
   "version": "3.10.4"
  },
  "orig_nbformat": 4,
  "vscode": {
   "interpreter": {
    "hash": "2ab03924b0a6784d01348d8b7d05bd4ac764873ded1b07aeb381424a5f34fd06"
   }
  }
 },
 "nbformat": 4,
 "nbformat_minor": 2
}
